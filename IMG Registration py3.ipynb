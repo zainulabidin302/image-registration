{
 "cells": [
  {
   "cell_type": "code",
   "execution_count": null,
   "metadata": {},
   "outputs": [
    {
     "ename": "ImportError",
     "evalue": "No module named cv2",
     "traceback": [
      "\u001b[0;31m---------------------------------------------------------------------------\u001b[0m",
      "\u001b[0;31mImportError\u001b[0m                               Traceback (most recent call last)",
      "\u001b[0;32m<ipython-input-1-1a240ec8a713>\u001b[0m in \u001b[0;36m<module>\u001b[0;34m()\u001b[0m\n\u001b[0;32m----> 1\u001b[0;31m \u001b[0;32mimport\u001b[0m \u001b[0mcv2\u001b[0m \u001b[0;32mas\u001b[0m \u001b[0mcv\u001b[0m\u001b[0;34m\u001b[0m\u001b[0m\n\u001b[0m\u001b[1;32m      2\u001b[0m \u001b[0;32mfrom\u001b[0m \u001b[0mcv2\u001b[0m \u001b[0;32mimport\u001b[0m \u001b[0mimread\u001b[0m\u001b[0;34m\u001b[0m\u001b[0m\n\u001b[1;32m      3\u001b[0m \u001b[0;32mimport\u001b[0m \u001b[0mos\u001b[0m\u001b[0;34m\u001b[0m\u001b[0m\n\u001b[1;32m      4\u001b[0m \u001b[0;32mfrom\u001b[0m \u001b[0mos\u001b[0m\u001b[0;34m.\u001b[0m\u001b[0mpath\u001b[0m \u001b[0;32mimport\u001b[0m \u001b[0mjoin\u001b[0m\u001b[0;34m\u001b[0m\u001b[0m\n\u001b[1;32m      5\u001b[0m \u001b[0;32mimport\u001b[0m \u001b[0mmatplotlib\u001b[0m\u001b[0;34m.\u001b[0m\u001b[0mpyplot\u001b[0m \u001b[0;32mas\u001b[0m \u001b[0mplt\u001b[0m\u001b[0;34m\u001b[0m\u001b[0m\n",
      "\u001b[0;31mImportError\u001b[0m: No module named cv2"
     ],
     "output_type": "error"
    }
   ],
   "source": [
    "import cv2 as cv\n",
    "from cv2 import imread\n",
    "import os\n",
    "from os.path import join\n",
    "import matplotlib.pyplot as plt\n",
    "from  matplotlib.pyplot import imshow\n",
    "import numpy as np\n",
    "\n",
    "\n",
    "base_path = '/Users/apple/Downloads'\n",
    "images = os.listdir(join(base_path, 'images'))\n",
    "img = imread(join(base_path, 'images', images[10]), 0)\n",
    "ref_img = imread(join(base_path, 'basic_image.png'), 0)\n",
    "\n",
    "\n",
    "MAX_FEATURES = 500\n",
    "GOOD_MATCH_PERCENT = 0.15\n",
    "\n",
    "def alignImages(im1, im2):\n",
    "    orb = cv2.SIFT_create(MAX_FEATURES)\n",
    "    \n",
    "    keypts1, desc1 = orb.detectAndCompute(im1, None)\n",
    "    keypts2, desc2 = orb.detectAndCompute(im2, None)\n",
    "    \n",
    "    matcher = cv2.DescriptorMatcher_create(cv2.DESCRIPTOR_MATCHER_BRUTEFORCE_HAMMING)\n",
    "    matches = matcher.match(desc1, desc2, None)\n",
    "    \n",
    "    matches.sort(key=lambda x: x.distance, reverse=False)\n",
    "    \n",
    "    numGoodMatches = int(len(matches) * GOOD_MATCH_PERCENT)\n",
    "    matches = matches[:numGoodMatches]\n",
    "    \n",
    "    imMatches = cv2.drawMatches(im1, keypts1, im2, keypts2, matches, None)\n",
    "    cv2.imwrite('matches.jpg', imMatches)\n",
    "    \n",
    "    pts1 = np.zeros((len(matches), 2), dtype=np.float32)\n",
    "    pts2 = np.zeros((len(matches), 2), dtype=np.float32)\n",
    "    \n",
    "    for i, match in enumerate(matches):\n",
    "        pts1[i, :] = keypts1[match.queryIdx].pt\n",
    "        pts2[i, :] = keypts2[match.queryIdx].pt\n",
    "    h, mask = cv2.findHomography(pts1, pts2, cv2.RANSAC)\n",
    "    height, width = im2.shape\n",
    "    im1Reg = cv2.warpPerspective(im1, h, (width, height))\n",
    "    \n",
    "    return im1Reg, h\n",
    "imReg, h = alignImages(img, ref_img)\n",
    "\n",
    "plt.subplot(221), plt.title('Reference Image')\n",
    "imshow(ref_img, cmap='gray')\n",
    "plt.subplot(222), plt.title('Registring Image')\n",
    "imshow(img, cmap='gray')\n",
    "plt.subplot(212), plt.title('Registered image')\n",
    "\n",
    "imshow(imReg, cmap='gray')\n",
    "plt.imsave('output1.png', imReg, cmap='gray')"
   ]
  },
  {
   "cell_type": "code",
   "execution_count": 2,
   "metadata": {},
   "outputs": [
    {
     "ename": "ImportError",
     "evalue": "No module named cv2",
     "traceback": [
      "\u001b[0;31m---------------------------------------------------------------------------\u001b[0m",
      "\u001b[0;31mImportError\u001b[0m                               Traceback (most recent call last)",
      "\u001b[0;32m<ipython-input-2-c8ec22b3e787>\u001b[0m in \u001b[0;36m<module>\u001b[0;34m()\u001b[0m\n\u001b[0;32m----> 1\u001b[0;31m \u001b[0;32mimport\u001b[0m \u001b[0mcv2\u001b[0m\u001b[0;34m\u001b[0m\u001b[0m\n\u001b[0m",
      "\u001b[0;31mImportError\u001b[0m: No module named cv2"
     ],
     "output_type": "error"
    }
   ],
   "source": [
    "import cv2"
   ]
  },
  {
   "cell_type": "code",
   "execution_count": null,
   "metadata": {},
   "outputs": [],
   "source": []
  }
 ],
 "metadata": {
  "kernelspec": {
   "display_name": "Python 2",
   "language": "python",
   "name": "python2"
  }
 },
 "nbformat": 4,
 "nbformat_minor": 2
}
